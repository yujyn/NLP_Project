{
  "nbformat": 4,
  "nbformat_minor": 0,
  "metadata": {
    "colab": {
      "provenance": [],
      "toc_visible": true
    },
    "kernelspec": {
      "name": "python3",
      "display_name": "Python 3"
    },
    "language_info": {
      "name": "python"
    }
  },
  "cells": [
    {
      "cell_type": "markdown",
      "source": [
        "# 1. 데이터 로드 및 전처리"
      ],
      "metadata": {
        "id": "UAYWM-QSNirI"
      }
    },
    {
      "cell_type": "code",
      "execution_count": null,
      "metadata": {
        "id": "dRFhguCY2Yp_"
      },
      "outputs": [],
      "source": [
        "import os\n",
        "import re\n",
        "import shutil\n",
        "import zipfile\n",
        "\n",
        "import numpy as np\n",
        "import pandas as pd\n",
        "import tensorflow as tf\n",
        "import unicodedata\n",
        "import urllib3\n",
        "from tensorflow.keras.layers import Embedding, GRU, Dense\n",
        "from tensorflow.keras.preprocessing.sequence import pad_sequences\n",
        "from tensorflow.keras.preprocessing.text import Tokenizer"
      ]
    },
    {
      "cell_type": "code",
      "source": [
        "http = urllib3.PoolManager()\n",
        "url = 'http://www.manythings.org/anki/kor-eng.zip'\n",
        "filename = 'kor-eng.zip'\n",
        "path = os.getcwd()\n",
        "zipfilename = os.path.join(path, filename)\n",
        "with http.request('GET', url, preload_content=False) as r, open(zipfilename, 'wb') as out_file:\n",
        "    shutil.copyfileobj(r, out_file)\n",
        "\n",
        "with zipfile.ZipFile(zipfilename, 'r') as zip_ref:\n",
        "    zip_ref.extractall(path)"
      ],
      "metadata": {
        "id": "b8ZrV9FA2jX5"
      },
      "execution_count": null,
      "outputs": []
    },
    {
      "cell_type": "code",
      "source": [
        "num_samples = 3800"
      ],
      "metadata": {
        "id": "duNhM04l6O_X"
      },
      "execution_count": null,
      "outputs": []
    },
    {
      "cell_type": "markdown",
      "source": [
        "## 전처리 함수"
      ],
      "metadata": {
        "id": "ZFXLViU4QxlV"
      }
    },
    {
      "cell_type": "code",
      "source": [
        "def preprocess_sentence_eng(sent):\n",
        "  sent = sent.lower()\n",
        "\n",
        "  # 단어와 구두점 사이에 공백 추가.\n",
        "  # ex) \"I am a student.\" => \"I am a student .\"\n",
        "  sent = re.sub(r\"([?.!,])\", r\" \\1\", sent)\n",
        "\n",
        "  # (a-z, A-Z, \".\", \"?\", \"!\", \",\") 이들을 제외하고는 전부 공백으로 변환.\n",
        "  sent = re.sub(r\"[^a-zA-Z!.?]+\", r\" \", sent)\n",
        "\n",
        "  # 다수 개의 공백을 하나의 공백으로 치환\n",
        "  sent = re.sub(r\"\\s+\", \" \", sent)\n",
        "  return sent"
      ],
      "metadata": {
        "id": "p_wrUBmb2tjs"
      },
      "execution_count": null,
      "outputs": []
    },
    {
      "cell_type": "code",
      "source": [
        "def preprocess_sentence_kor(sent):\n",
        "\n",
        "  sent = re.sub(r\"([?.!,])\", r\" \\1\", sent)\n",
        "\n",
        "  sent = re.sub(r\"[^ㄱ-ㅎㅏ-ㅣ가-힣!.?]+\", r\" \", sent)\n",
        "\n",
        "  sent = re.sub(r\"\\s+\", \" \", sent)\n",
        "  return sent"
      ],
      "metadata": {
        "id": "PK5hgQnl29_w"
      },
      "execution_count": null,
      "outputs": []
    },
    {
      "cell_type": "code",
      "source": [
        "# 전처리 테스트\n",
        "en_sent = u\"Have you had dinner?\"\n",
        "kr_sent = u\"저녁 먹었어?\"\n",
        "\n",
        "print('전처리 전 영어 문장 :', en_sent)\n",
        "print('전처리 후 영어 문장 :',preprocess_sentence_eng(en_sent))\n",
        "print('전처리 전 한국어 문장 :', kr_sent)\n",
        "print('전처리 후 한국어 문장 :', preprocess_sentence_kor(kr_sent))"
      ],
      "metadata": {
        "colab": {
          "base_uri": "https://localhost:8080/"
        },
        "id": "w7E94i8l31Kq",
        "outputId": "610d99d5-76ad-4700-b8fe-dc65866fcf24"
      },
      "execution_count": null,
      "outputs": [
        {
          "output_type": "stream",
          "name": "stdout",
          "text": [
            "전처리 전 영어 문장 : Have you had dinner?\n",
            "전처리 후 영어 문장 : have you had dinner ?\n",
            "전처리 전 한국어 문장 : 저녁 먹었어?\n",
            "전처리 후 한국어 문장 : 저녁 먹었어 ?\n"
          ]
        }
      ]
    },
    {
      "cell_type": "code",
      "source": [
        "def load_preprocessed_data():\n",
        "  encoder_input, decoder_input, decoder_target = [], [], []\n",
        "\n",
        "  with open(\"kor.txt\", \"r\") as lines:\n",
        "    for i, line in enumerate(lines):\n",
        "      # source 데이터와 target 데이터 분리\n",
        "      src_line, tar_line, _ = line.strip().split('\\t')\n",
        "\n",
        "      # source 데이터 전처리\n",
        "      src_line = [w for w in preprocess_sentence_eng(src_line).split()]\n",
        "\n",
        "      # target 데이터 전처리\n",
        "      tar_line = preprocess_sentence_kor(tar_line)\n",
        "      tar_line_in = [w for w in (\"<sos> \" + tar_line).split()]\n",
        "      tar_line_out = [w for w in (tar_line + \" <eos>\").split()]\n",
        "\n",
        "      encoder_input.append(src_line)\n",
        "      decoder_input.append(tar_line_in)\n",
        "      decoder_target.append(tar_line_out)\n",
        "\n",
        "      if i == num_samples - 1:\n",
        "        break\n",
        "\n",
        "  return encoder_input, decoder_input, decoder_target"
      ],
      "metadata": {
        "id": "9coMSIeZ4EvR"
      },
      "execution_count": null,
      "outputs": []
    },
    {
      "cell_type": "code",
      "source": [
        "sents_en_in, sents_kr_in, sents_kr_out = load_preprocessed_data()\n",
        "print('인코더의 입력 :',sents_en_in[:5])\n",
        "print('디코더의 입력 :',sents_kr_in[:5])\n",
        "print('디코더의 레이블 :',sents_kr_out[:5])"
      ],
      "metadata": {
        "colab": {
          "base_uri": "https://localhost:8080/"
        },
        "id": "8UFIGqom4ze5",
        "outputId": "f5e51cdf-8443-4075-fe6c-881f6a4c1898"
      },
      "execution_count": null,
      "outputs": [
        {
          "output_type": "stream",
          "name": "stdout",
          "text": [
            "인코더의 입력 : [['go', '.'], ['hi', '.'], ['run', '!'], ['run', '.'], ['who', '?']]\n",
            "디코더의 입력 : [['<sos>', '가', '.'], ['<sos>', '안녕', '.'], ['<sos>', '뛰어', '!'], ['<sos>', '뛰어', '.'], ['<sos>', '누구', '?']]\n",
            "디코더의 레이블 : [['가', '.', '<eos>'], ['안녕', '.', '<eos>'], ['뛰어', '!', '<eos>'], ['뛰어', '.', '<eos>'], ['누구', '?', '<eos>']]\n"
          ]
        }
      ]
    },
    {
      "cell_type": "markdown",
      "source": [
        "## 토크나이저, 정수 인코딩, 패딩"
      ],
      "metadata": {
        "id": "vIoexemOPfgh"
      }
    },
    {
      "cell_type": "code",
      "source": [
        "tokenizer_en = Tokenizer(filters=\"\", lower=False)\n",
        "tokenizer_en.fit_on_texts(sents_en_in)\n",
        "encoder_input = tokenizer_en.texts_to_sequences(sents_en_in)\n",
        "encoder_input = pad_sequences(encoder_input, padding=\"post\")\n",
        "\n",
        "tokenizer_kr = Tokenizer(filters=\"\", lower=False)\n",
        "tokenizer_kr.fit_on_texts(sents_kr_in)\n",
        "tokenizer_kr.fit_on_texts(sents_kr_out)\n",
        "\n",
        "decoder_input = tokenizer_kr.texts_to_sequences(sents_kr_in)\n",
        "decoder_input = pad_sequences(decoder_input, padding=\"post\")\n",
        "\n",
        "decoder_target = tokenizer_kr.texts_to_sequences(sents_kr_out)\n",
        "decoder_target = pad_sequences(decoder_target, padding=\"post\")"
      ],
      "metadata": {
        "id": "EXpB-r8x46XT"
      },
      "execution_count": null,
      "outputs": []
    },
    {
      "cell_type": "code",
      "source": [
        "print('인코더의 입력의 크기(shape) :',encoder_input.shape)\n",
        "print('디코더의 입력의 크기(shape) :',decoder_input.shape)\n",
        "print('디코더의 레이블의 크기(shape) :',decoder_target.shape)"
      ],
      "metadata": {
        "colab": {
          "base_uri": "https://localhost:8080/"
        },
        "id": "SgeCE3Wz5Qvh",
        "outputId": "b803914b-b1d3-4388-e340-928a2f4e08c9"
      },
      "execution_count": null,
      "outputs": [
        {
          "output_type": "stream",
          "name": "stdout",
          "text": [
            "인코더의 입력의 크기(shape) : (3800, 17)\n",
            "디코더의 입력의 크기(shape) : (3800, 16)\n",
            "디코더의 레이블의 크기(shape) : (3800, 16)\n"
          ]
        }
      ]
    },
    {
      "cell_type": "code",
      "source": [
        "src_vocab_size = len(tokenizer_en.word_index) + 1\n",
        "tar_vocab_size = len(tokenizer_kr.word_index) + 1\n",
        "print(\"영어 단어 집합의 크기 : {:d}, 한국어 단어 집합의 크기 : {:d}\".format(src_vocab_size, tar_vocab_size))"
      ],
      "metadata": {
        "colab": {
          "base_uri": "https://localhost:8080/"
        },
        "id": "5dKehQlv5S_Y",
        "outputId": "5f51bb02-636e-4fae-ec0e-559808759569"
      },
      "execution_count": null,
      "outputs": [
        {
          "output_type": "stream",
          "name": "stdout",
          "text": [
            "영어 단어 집합의 크기 : 2473, 한국어 단어 집합의 크기 : 5582\n"
          ]
        }
      ]
    },
    {
      "cell_type": "code",
      "source": [
        "src_to_index = tokenizer_en.word_index\n",
        "index_to_src = tokenizer_en.index_word\n",
        "tar_to_index = tokenizer_kr.word_index\n",
        "index_to_tar = tokenizer_kr.index_word"
      ],
      "metadata": {
        "id": "XWILwqPc5daz"
      },
      "execution_count": null,
      "outputs": []
    },
    {
      "cell_type": "code",
      "source": [
        "indices = np.arange(encoder_input.shape[0])\n",
        "np.random.shuffle(indices)\n",
        "print('랜덤 시퀀스 :',indices)"
      ],
      "metadata": {
        "colab": {
          "base_uri": "https://localhost:8080/"
        },
        "id": "O7nhXSfo5i8D",
        "outputId": "8d31ebc8-2816-4bc3-9205-c77bc4c91411"
      },
      "execution_count": null,
      "outputs": [
        {
          "output_type": "stream",
          "name": "stdout",
          "text": [
            "랜덤 시퀀스 : [2174 1881 3446 ... 1470 2051  156]\n"
          ]
        }
      ]
    },
    {
      "cell_type": "code",
      "source": [
        "encoder_input = encoder_input[indices]\n",
        "decoder_input = decoder_input[indices]\n",
        "decoder_target = decoder_target[indices]"
      ],
      "metadata": {
        "id": "kaqoaEL85loF"
      },
      "execution_count": null,
      "outputs": []
    },
    {
      "cell_type": "code",
      "source": [
        "encoder_input[3021]"
      ],
      "metadata": {
        "colab": {
          "base_uri": "https://localhost:8080/"
        },
        "id": "eKZOeptX5nuF",
        "outputId": "407531a9-533e-43a5-b251-53bec3bd96d6"
      },
      "execution_count": null,
      "outputs": [
        {
          "output_type": "execute_result",
          "data": {
            "text/plain": [
              "array([ 80,   2, 114,   5,   2, 131, 351,   8, 555,   1,   0,   0,   0,\n",
              "         0,   0,   0,   0], dtype=int32)"
            ]
          },
          "metadata": {},
          "execution_count": 31
        }
      ]
    },
    {
      "cell_type": "code",
      "source": [
        "decoder_input[3021]"
      ],
      "metadata": {
        "colab": {
          "base_uri": "https://localhost:8080/"
        },
        "id": "GAuf-4LT5tf2",
        "outputId": "aafd435a-8757-4acb-bd95-2e65fc436cc8"
      },
      "execution_count": null,
      "outputs": [
        {
          "output_type": "execute_result",
          "data": {
            "text/plain": [
              "array([   2,   10,  400, 1419,  905, 1332,  330,    1,    0,    0,    0,\n",
              "          0,    0,    0,    0,    0], dtype=int32)"
            ]
          },
          "metadata": {},
          "execution_count": 32
        }
      ]
    },
    {
      "cell_type": "code",
      "source": [
        "decoder_target[3021]"
      ],
      "metadata": {
        "colab": {
          "base_uri": "https://localhost:8080/"
        },
        "id": "qcERrVHy5z5v",
        "outputId": "c6766c61-f617-4ad6-fb4f-eb9e08102467"
      },
      "execution_count": null,
      "outputs": [
        {
          "output_type": "execute_result",
          "data": {
            "text/plain": [
              "array([  10,  400, 1419,  905, 1332,  330,    1,    3,    0,    0,    0,\n",
              "          0,    0,    0,    0,    0], dtype=int32)"
            ]
          },
          "metadata": {},
          "execution_count": 33
        }
      ]
    },
    {
      "cell_type": "markdown",
      "source": [
        "## 학습 데이터와 테스트 데이터 분리"
      ],
      "metadata": {
        "id": "UUX-p37rSEs5"
      }
    },
    {
      "cell_type": "code",
      "source": [
        "n_of_val = int(3800*0.1)\n",
        "print('테스트 데이터의 개수 :',n_of_val)"
      ],
      "metadata": {
        "colab": {
          "base_uri": "https://localhost:8080/"
        },
        "id": "urc588Q351-R",
        "outputId": "07d3a3a5-bbf0-4560-c227-1e506ccd1643"
      },
      "execution_count": 1,
      "outputs": [
        {
          "output_type": "stream",
          "name": "stdout",
          "text": [
            "테스트 데이터의 개수 : 380\n"
          ]
        }
      ]
    },
    {
      "cell_type": "code",
      "source": [
        "encoder_input_train = encoder_input[:-n_of_val]\n",
        "decoder_input_train = decoder_input[:-n_of_val]\n",
        "decoder_target_train = decoder_target[:-n_of_val]\n",
        "\n",
        "encoder_input_test = encoder_input[-n_of_val:]\n",
        "decoder_input_test = decoder_input[-n_of_val:]\n",
        "decoder_target_test = decoder_target[-n_of_val:]"
      ],
      "metadata": {
        "id": "pKO-y7sa6lB8"
      },
      "execution_count": null,
      "outputs": []
    },
    {
      "cell_type": "code",
      "source": [
        "print('훈련 source 데이터의 크기 :',encoder_input_train.shape)\n",
        "print('훈련 target 데이터의 크기 :',decoder_input_train.shape)\n",
        "print('훈련 target 레이블의 크기 :',decoder_target_train.shape)\n",
        "print('테스트 source 데이터의 크기 :',encoder_input_test.shape)\n",
        "print('테스트 target 데이터의 크기 :',decoder_input_test.shape)\n",
        "print('테스트 target 레이블의 크기 :',decoder_target_test.shape)"
      ],
      "metadata": {
        "colab": {
          "base_uri": "https://localhost:8080/"
        },
        "id": "Qhv7v_KN6rdm",
        "outputId": "c0a55c80-e02c-41d6-ccb1-da33395079d3"
      },
      "execution_count": null,
      "outputs": [
        {
          "output_type": "stream",
          "name": "stdout",
          "text": [
            "훈련 source 데이터의 크기 : (3420, 17)\n",
            "훈련 target 데이터의 크기 : (3420, 16)\n",
            "훈련 target 레이블의 크기 : (3420, 16)\n",
            "테스트 source 데이터의 크기 : (380, 17)\n",
            "테스트 target 데이터의 크기 : (380, 16)\n",
            "테스트 target 레이블의 크기 : (380, 16)\n"
          ]
        }
      ]
    },
    {
      "cell_type": "markdown",
      "source": [
        "# 2. 모델 학습"
      ],
      "metadata": {
        "id": "YykAfxNzSsCe"
      }
    },
    {
      "cell_type": "code",
      "source": [
        "from tensorflow.keras.layers import Input, LSTM, Embedding, Dense, Masking\n",
        "from tensorflow.keras.models import Model"
      ],
      "metadata": {
        "id": "ne84pJyC6tUJ"
      },
      "execution_count": null,
      "outputs": []
    },
    {
      "cell_type": "code",
      "source": [
        "embedding_dim = 64\n",
        "hidden_units = 64"
      ],
      "metadata": {
        "id": "soQj_Ptm6wtc"
      },
      "execution_count": null,
      "outputs": []
    },
    {
      "cell_type": "code",
      "source": [
        "# 인코더\n",
        "encoder_inputs = Input(shape=(None,))\n",
        "enc_emb = Embedding(src_vocab_size, embedding_dim)(encoder_inputs) # 임베딩 층\n",
        "enc_masking = Masking(mask_value=0.0)(enc_emb) # 패딩 0은 연산에서 제외\n",
        "encoder_lstm = LSTM(hidden_units, return_state=True) # 상태값 리턴을 위해 return_state는 True\n",
        "encoder_outputs, state_h, state_c = encoder_lstm(enc_masking) # 은닉 상태와 셀 상태를 리턴\n",
        "encoder_states = [state_h, state_c] # 인코더의 은닉 상태와 셀 상태를 저장"
      ],
      "metadata": {
        "id": "jJ4QjRwK6ytE"
      },
      "execution_count": null,
      "outputs": []
    },
    {
      "cell_type": "code",
      "source": [
        "# 디코더\n",
        "decoder_inputs = Input(shape=(None,))\n",
        "dec_emb_layer = Embedding(tar_vocab_size, hidden_units) # 임베딩 층\n",
        "dec_emb = dec_emb_layer(decoder_inputs) # 패딩 0은 연산에서 제외\n",
        "dec_masking = Masking(mask_value=0.0)(dec_emb)\n",
        "\n",
        "# 상태값 리턴을 위해 return_state는 True, 모든 시점에 대해서 단어를 예측하기 위해 return_sequences는 True\n",
        "decoder_lstm = LSTM(hidden_units, return_sequences=True, return_state=True) \n",
        "\n",
        "# 인코더의 은닉 상태를 초기 은닉 상태(initial_state)로 사용\n",
        "decoder_outputs, _, _ = decoder_lstm(dec_masking,\n",
        "                                     initial_state=encoder_states)\n",
        "\n",
        "# 모든 시점의 결과에 대해서 소프트맥스 함수를 사용한 출력층을 통해 단어 예측\n",
        "decoder_dense = Dense(tar_vocab_size, activation='softmax')\n",
        "decoder_outputs = decoder_dense(decoder_outputs)\n",
        "\n",
        "# 모델의 입력과 출력을 정의.\n",
        "model = Model([encoder_inputs, decoder_inputs], decoder_outputs)\n",
        "\n",
        "model.compile(optimizer='adam', loss='sparse_categorical_crossentropy', metrics=['acc'])"
      ],
      "metadata": {
        "id": "sK0xkG0k61D5"
      },
      "execution_count": null,
      "outputs": []
    },
    {
      "cell_type": "code",
      "source": [
        "model.fit(x=[encoder_input_train, decoder_input_train], y=decoder_target_train, \\\n",
        "          validation_data=([encoder_input_test, decoder_input_test], decoder_target_test),\n",
        "          batch_size=128, epochs=50)"
      ],
      "metadata": {
        "colab": {
          "base_uri": "https://localhost:8080/"
        },
        "id": "N_76HRNf65Zm",
        "outputId": "74247fda-7542-45a5-b835-2b6227cf1a43"
      },
      "execution_count": null,
      "outputs": [
        {
          "output_type": "stream",
          "name": "stdout",
          "text": [
            "Epoch 1/50\n",
            "27/27 [==============================] - 22s 454ms/step - loss: 8.1394 - acc: 0.5499 - val_loss: 6.7352 - val_acc: 0.6146\n",
            "Epoch 2/50\n",
            "27/27 [==============================] - 9s 333ms/step - loss: 5.0981 - acc: 0.6134 - val_loss: 3.6414 - val_acc: 0.6146\n",
            "Epoch 3/50\n",
            "27/27 [==============================] - 9s 333ms/step - loss: 3.0602 - acc: 0.6134 - val_loss: 2.8180 - val_acc: 0.6146\n",
            "Epoch 4/50\n",
            "27/27 [==============================] - 9s 334ms/step - loss: 2.7094 - acc: 0.6134 - val_loss: 2.7262 - val_acc: 0.6146\n",
            "Epoch 5/50\n",
            "27/27 [==============================] - 9s 335ms/step - loss: 2.6201 - acc: 0.6134 - val_loss: 2.6696 - val_acc: 0.6146\n",
            "Epoch 6/50\n",
            "27/27 [==============================] - 9s 338ms/step - loss: 2.5479 - acc: 0.6134 - val_loss: 2.6039 - val_acc: 0.6146\n",
            "Epoch 7/50\n",
            "27/27 [==============================] - 9s 337ms/step - loss: 2.4587 - acc: 0.6134 - val_loss: 2.5127 - val_acc: 0.6150\n",
            "Epoch 8/50\n",
            "27/27 [==============================] - 9s 335ms/step - loss: 2.3714 - acc: 0.6180 - val_loss: 2.4446 - val_acc: 0.6308\n",
            "Epoch 9/50\n",
            "27/27 [==============================] - 9s 335ms/step - loss: 2.3046 - acc: 0.6399 - val_loss: 2.3940 - val_acc: 0.6533\n",
            "Epoch 10/50\n",
            "27/27 [==============================] - 9s 337ms/step - loss: 2.2515 - acc: 0.6626 - val_loss: 2.3557 - val_acc: 0.6600\n",
            "Epoch 11/50\n",
            "27/27 [==============================] - 9s 339ms/step - loss: 2.2081 - acc: 0.6651 - val_loss: 2.3253 - val_acc: 0.6816\n",
            "Epoch 12/50\n",
            "27/27 [==============================] - 9s 338ms/step - loss: 2.1719 - acc: 0.6908 - val_loss: 2.3023 - val_acc: 0.7104\n",
            "Epoch 13/50\n",
            "27/27 [==============================] - 9s 339ms/step - loss: 2.1410 - acc: 0.7244 - val_loss: 2.2827 - val_acc: 0.7257\n",
            "Epoch 14/50\n",
            "27/27 [==============================] - 9s 336ms/step - loss: 2.1144 - acc: 0.7338 - val_loss: 2.2664 - val_acc: 0.7298\n",
            "Epoch 15/50\n",
            "27/27 [==============================] - 9s 337ms/step - loss: 2.0907 - acc: 0.7349 - val_loss: 2.2523 - val_acc: 0.7314\n",
            "Epoch 16/50\n",
            "27/27 [==============================] - 9s 337ms/step - loss: 2.0694 - acc: 0.7351 - val_loss: 2.2405 - val_acc: 0.7321\n",
            "Epoch 17/50\n",
            "27/27 [==============================] - 9s 334ms/step - loss: 2.0494 - acc: 0.7352 - val_loss: 2.2279 - val_acc: 0.7327\n",
            "Epoch 18/50\n",
            "27/27 [==============================] - 9s 340ms/step - loss: 2.0312 - acc: 0.7355 - val_loss: 2.2173 - val_acc: 0.7326\n",
            "Epoch 19/50\n",
            "27/27 [==============================] - 9s 342ms/step - loss: 2.0144 - acc: 0.7357 - val_loss: 2.2085 - val_acc: 0.7336\n",
            "Epoch 20/50\n",
            "27/27 [==============================] - 10s 362ms/step - loss: 1.9986 - acc: 0.7359 - val_loss: 2.1997 - val_acc: 0.7336\n",
            "Epoch 21/50\n",
            "27/27 [==============================] - 10s 351ms/step - loss: 1.9834 - acc: 0.7360 - val_loss: 2.1924 - val_acc: 0.7336\n",
            "Epoch 22/50\n",
            "27/27 [==============================] - 9s 337ms/step - loss: 1.9691 - acc: 0.7361 - val_loss: 2.1855 - val_acc: 0.7336\n",
            "Epoch 23/50\n",
            "27/27 [==============================] - 9s 339ms/step - loss: 1.9554 - acc: 0.7362 - val_loss: 2.1819 - val_acc: 0.7336\n",
            "Epoch 24/50\n",
            "27/27 [==============================] - 9s 337ms/step - loss: 1.9420 - acc: 0.7362 - val_loss: 2.1740 - val_acc: 0.7336\n",
            "Epoch 25/50\n",
            "27/27 [==============================] - 9s 337ms/step - loss: 1.9284 - acc: 0.7363 - val_loss: 2.1671 - val_acc: 0.7334\n",
            "Epoch 26/50\n",
            "27/27 [==============================] - 9s 338ms/step - loss: 1.9140 - acc: 0.7363 - val_loss: 2.1588 - val_acc: 0.7337\n",
            "Epoch 27/50\n",
            "27/27 [==============================] - 10s 376ms/step - loss: 1.8997 - acc: 0.7363 - val_loss: 2.1531 - val_acc: 0.7337\n",
            "Epoch 28/50\n",
            "27/27 [==============================] - 9s 344ms/step - loss: 1.8859 - acc: 0.7363 - val_loss: 2.1472 - val_acc: 0.7345\n",
            "Epoch 29/50\n",
            "27/27 [==============================] - 10s 373ms/step - loss: 1.8725 - acc: 0.7365 - val_loss: 2.1388 - val_acc: 0.7350\n",
            "Epoch 30/50\n",
            "27/27 [==============================] - 9s 346ms/step - loss: 1.8586 - acc: 0.7368 - val_loss: 2.1279 - val_acc: 0.7355\n",
            "Epoch 31/50\n",
            "27/27 [==============================] - 9s 347ms/step - loss: 1.8453 - acc: 0.7369 - val_loss: 2.1235 - val_acc: 0.7360\n",
            "Epoch 32/50\n",
            "27/27 [==============================] - 10s 364ms/step - loss: 1.8323 - acc: 0.7378 - val_loss: 2.1178 - val_acc: 0.7377\n",
            "Epoch 33/50\n",
            "27/27 [==============================] - 9s 347ms/step - loss: 1.8188 - acc: 0.7386 - val_loss: 2.1137 - val_acc: 0.7382\n",
            "Epoch 34/50\n",
            "27/27 [==============================] - 9s 345ms/step - loss: 1.8058 - acc: 0.7399 - val_loss: 2.1113 - val_acc: 0.7385\n",
            "Epoch 35/50\n",
            "27/27 [==============================] - 10s 355ms/step - loss: 1.7932 - acc: 0.7409 - val_loss: 2.1132 - val_acc: 0.7390\n",
            "Epoch 36/50\n",
            "27/27 [==============================] - 9s 336ms/step - loss: 1.7809 - acc: 0.7411 - val_loss: 2.1172 - val_acc: 0.7390\n",
            "Epoch 37/50\n",
            "27/27 [==============================] - 9s 337ms/step - loss: 1.7691 - acc: 0.7425 - val_loss: 2.1083 - val_acc: 0.7398\n",
            "Epoch 38/50\n",
            "27/27 [==============================] - 9s 339ms/step - loss: 1.7570 - acc: 0.7429 - val_loss: 2.1086 - val_acc: 0.7396\n",
            "Epoch 39/50\n",
            "27/27 [==============================] - 9s 335ms/step - loss: 1.7448 - acc: 0.7439 - val_loss: 2.1111 - val_acc: 0.7391\n",
            "Epoch 40/50\n",
            "27/27 [==============================] - 9s 332ms/step - loss: 1.7334 - acc: 0.7449 - val_loss: 2.1101 - val_acc: 0.7385\n",
            "Epoch 41/50\n",
            "27/27 [==============================] - 10s 374ms/step - loss: 1.7218 - acc: 0.7451 - val_loss: 2.1057 - val_acc: 0.7368\n",
            "Epoch 42/50\n",
            "27/27 [==============================] - 9s 334ms/step - loss: 1.7102 - acc: 0.7470 - val_loss: 2.1061 - val_acc: 0.7370\n",
            "Epoch 43/50\n",
            "27/27 [==============================] - 9s 332ms/step - loss: 1.6994 - acc: 0.7486 - val_loss: 2.1133 - val_acc: 0.7390\n",
            "Epoch 44/50\n",
            "27/27 [==============================] - 9s 333ms/step - loss: 1.6884 - acc: 0.7510 - val_loss: 2.1157 - val_acc: 0.7408\n",
            "Epoch 45/50\n",
            "27/27 [==============================] - 9s 335ms/step - loss: 1.6786 - acc: 0.7529 - val_loss: 2.1107 - val_acc: 0.7395\n",
            "Epoch 46/50\n",
            "27/27 [==============================] - 9s 333ms/step - loss: 1.6669 - acc: 0.7543 - val_loss: 2.1129 - val_acc: 0.7410\n",
            "Epoch 47/50\n",
            "27/27 [==============================] - 9s 332ms/step - loss: 1.6557 - acc: 0.7561 - val_loss: 2.1121 - val_acc: 0.7426\n",
            "Epoch 48/50\n",
            "27/27 [==============================] - 9s 332ms/step - loss: 1.6448 - acc: 0.7568 - val_loss: 2.1150 - val_acc: 0.7416\n",
            "Epoch 49/50\n",
            "27/27 [==============================] - 9s 333ms/step - loss: 1.6342 - acc: 0.7574 - val_loss: 2.1190 - val_acc: 0.7429\n",
            "Epoch 50/50\n",
            "27/27 [==============================] - 9s 333ms/step - loss: 1.6238 - acc: 0.7579 - val_loss: 2.1170 - val_acc: 0.7437\n"
          ]
        },
        {
          "output_type": "execute_result",
          "data": {
            "text/plain": [
              "<keras.callbacks.History at 0x7fe4d16b4f90>"
            ]
          },
          "metadata": {},
          "execution_count": 41
        }
      ]
    },
    {
      "cell_type": "markdown",
      "source": [
        "# 3. 모델 학습 결과"
      ],
      "metadata": {
        "id": "IEEDB5doTPv-"
      }
    },
    {
      "cell_type": "code",
      "source": [
        "# 인코더\n",
        "encoder_model = Model(encoder_inputs, encoder_states)\n",
        "\n",
        "# 디코더 설계 시작\n",
        "# 이전 시점의 상태를 보관할 텐서\n",
        "decoder_state_input_h = Input(shape=(hidden_units,))\n",
        "decoder_state_input_c = Input(shape=(hidden_units,))\n",
        "decoder_states_inputs = [decoder_state_input_h, decoder_state_input_c]\n",
        "\n",
        "# 훈련 때 사용했던 임베딩 층을 재사용\n",
        "dec_emb2 = dec_emb_layer(decoder_inputs)\n",
        "\n",
        "# 다음 단어 예측을 위해 이전 시점의 상태를 현 시점의 초기 상태로 사용\n",
        "decoder_outputs2, state_h2, state_c2 = decoder_lstm(dec_emb2, initial_state=decoder_states_inputs)\n",
        "decoder_states2 = [state_h2, state_c2]\n",
        "\n",
        "# 모든 시점에 대해서 단어 예측\n",
        "decoder_outputs2 = decoder_dense(decoder_outputs2)\n",
        "\n",
        "# 수정된 디코더\n",
        "decoder_model = Model(\n",
        "    [decoder_inputs] + decoder_states_inputs,\n",
        "    [decoder_outputs2] + decoder_states2)"
      ],
      "metadata": {
        "id": "w8QDcolJ69MY"
      },
      "execution_count": null,
      "outputs": []
    },
    {
      "cell_type": "code",
      "source": [
        "def decode_sequence(input_seq):\n",
        "  # 입력으로부터 인코더의 마지막 시점의 상태(은닉 상태, 셀 상태)를 얻음\n",
        "  states_value = encoder_model.predict(input_seq)\n",
        "\n",
        "  # <SOS>에 해당하는 정수 생성\n",
        "  target_seq = np.zeros((1,1))\n",
        "  target_seq[0, 0] = tar_to_index['<sos>']\n",
        "\n",
        "  stop_condition = False\n",
        "  decoded_sentence = ''\n",
        "\n",
        "  # stop_condition이 True가 될 때까지 루프 반복\n",
        "  # 구현의 간소화를 위해서 이 함수는 배치 크기를 1로 가정합니다.\n",
        "  while not stop_condition:\n",
        "    # 이점 시점의 상태 states_value를 현 시점의 초기 상태로 사용\n",
        "    output_tokens, h, c = decoder_model.predict([target_seq] + states_value)\n",
        "\n",
        "    # 예측 결과를 단어로 변환\n",
        "    sampled_token_index = np.argmax(output_tokens[0, -1, :])\n",
        "    sampled_char = index_to_tar[sampled_token_index]\n",
        "\n",
        "    # 현재 시점의 예측 단어를 예측 문장에 추가\n",
        "    decoded_sentence += ' '+sampled_char\n",
        "\n",
        "    # <eos>에 도달하거나 정해진 길이를 넘으면 중단.\n",
        "    if (sampled_char == '<eos>' or\n",
        "        len(decoded_sentence) > 50):\n",
        "        stop_condition = True\n",
        "\n",
        "    # 현재 시점의 예측 결과를 다음 시점의 입력으로 사용하기 위해 저장\n",
        "    target_seq = np.zeros((1,1))\n",
        "    target_seq[0, 0] = sampled_token_index\n",
        "\n",
        "    # 현재 시점의 상태를 다음 시점의 상태로 사용하기 위해 저장\n",
        "    states_value = [h, c]\n",
        "\n",
        "  return decoded_sentence"
      ],
      "metadata": {
        "id": "U21DoHks79i4"
      },
      "execution_count": null,
      "outputs": []
    },
    {
      "cell_type": "code",
      "source": [
        "# 원문의 정수 시퀀스를 텍스트 시퀀스로 변환\n",
        "def seq_to_src(input_seq):\n",
        "  sentence = ''\n",
        "  for encoded_word in input_seq:\n",
        "    if(encoded_word != 0):\n",
        "      sentence = sentence + index_to_src[encoded_word] + ' '\n",
        "  return sentence\n",
        "\n",
        "# 번역문의 정수 시퀀스를 텍스트 시퀀스로 변환\n",
        "def seq_to_tar(input_seq):\n",
        "  sentence = ''\n",
        "  for encoded_word in input_seq:\n",
        "    if(encoded_word != 0 and encoded_word != tar_to_index['<sos>'] and encoded_word != tar_to_index['<eos>']):\n",
        "      sentence = sentence + index_to_tar[encoded_word] + ' '\n",
        "  return sentence"
      ],
      "metadata": {
        "id": "j1vE3Xys7_1D"
      },
      "execution_count": null,
      "outputs": []
    },
    {
      "cell_type": "markdown",
      "source": [
        "## 학습 데이터의 번역 결과"
      ],
      "metadata": {
        "id": "Wwxjz_4KbNLl"
      }
    },
    {
      "cell_type": "code",
      "source": [
        "for seq_index in [3, 50, 100, 300, 1001]:\n",
        "  input_seq = encoder_input_train[seq_index: seq_index + 1]\n",
        "  decoded_sentence = decode_sequence(input_seq)\n",
        "\n",
        "  print(\"입력문장 :\",seq_to_src(encoder_input_train[seq_index]))\n",
        "  print(\"정답문장 :\",seq_to_tar(decoder_input_train[seq_index]))\n",
        "  print(\"번역문장 :\",decoded_sentence[1:-5])\n",
        "  print(\"-\"*50)"
      ],
      "metadata": {
        "colab": {
          "base_uri": "https://localhost:8080/"
        },
        "id": "wJqnwe268FNb",
        "outputId": "92efa2ec-f1df-4381-8000-77df23ec4a2f"
      },
      "execution_count": null,
      "outputs": [
        {
          "output_type": "stream",
          "name": "stdout",
          "text": [
            "입력문장 : i have to give this book to tom . \n",
            "정답문장 : 톰에게 이 책을 줘야 합니다 . \n",
            "번역문장 : 난 내 프랑스어를 것을 않아 . \n",
            "--------------------------------------------------\n",
            "입력문장 : they have no proof . \n",
            "정답문장 : 그들한텐 증거가 없어 . \n",
            "번역문장 : 너 ! \n",
            "--------------------------------------------------\n",
            "입력문장 : tom held his breath . \n",
            "정답문장 : 톰은 숨을 참았어 . \n",
            "번역문장 : 톰은 자기 자기 톰이 톰이 비해 같아 . \n",
            "--------------------------------------------------\n",
            "입력문장 : i m trying to do my best . \n",
            "정답문장 : 난 최선을 다하려고 노력하는 중이야 . \n",
            "번역문장 : 난 내 프랑스어를 것을 같아 . \n",
            "--------------------------------------------------\n",
            "입력문장 : stop shooting . \n",
            "정답문장 : 총 그만 쏴 . \n",
            "번역문장 : ! \n",
            "--------------------------------------------------\n"
          ]
        }
      ]
    },
    {
      "cell_type": "markdown",
      "source": [
        "## 테스트 데이터의 번역 결과"
      ],
      "metadata": {
        "id": "oig6z46KbZqI"
      }
    },
    {
      "cell_type": "code",
      "source": [
        "for seq_index in [3, 50, 100, 300, 379]:\n",
        "  input_seq = encoder_input_test[seq_index: seq_index + 1]\n",
        "  decoded_sentence = decode_sequence(input_seq)\n",
        "\n",
        "  print(\"입력문장 :\",seq_to_src(encoder_input_test[seq_index]))\n",
        "  print(\"정답문장 :\",seq_to_tar(decoder_input_test[seq_index]))\n",
        "  print(\"번역문장 :\",decoded_sentence[1:-5])\n",
        "  print(\"-\"*50)"
      ],
      "metadata": {
        "colab": {
          "base_uri": "https://localhost:8080/"
        },
        "id": "zXQahC0X8LmZ",
        "outputId": "36227c4b-6510-4222-909b-5d2a239fcd48"
      },
      "execution_count": null,
      "outputs": [
        {
          "output_type": "stream",
          "name": "stdout",
          "text": [
            "입력문장 : i know what those situations are like . \n",
            "정답문장 : 이게 대략 어떤 상황인지는 알아 . \n",
            "번역문장 : 너 좀 더 ? \n",
            "--------------------------------------------------\n",
            "입력문장 : keep singing . \n",
            "정답문장 : 계속 노래해 . \n",
            "번역문장 : 너 있어 . \n",
            "--------------------------------------------------\n",
            "입력문장 : it s awfully warm today . \n",
            "정답문장 : 오늘은 끔찍하게 덥네 . \n",
            "번역문장 : ! \n",
            "--------------------------------------------------\n",
            "입력문장 : tom used to be a primary school teacher . \n",
            "정답문장 : 톰은 한때 초등학교 선생님이었었어 . \n",
            "번역문장 : 톰은 자기 자기 톰이 톰이 비해 같아 . \n",
            "--------------------------------------------------\n",
            "입력문장 : seriously ? \n",
            "정답문장 : 진심이야 ? \n",
            "번역문장 : ! \n",
            "--------------------------------------------------\n"
          ]
        }
      ]
    },
    {
      "cell_type": "markdown",
      "source": [
        "# 4. 한계점과 추후 해결방안"
      ],
      "metadata": {
        "id": "ruXrifg-TjSS"
      }
    }
  ]
}